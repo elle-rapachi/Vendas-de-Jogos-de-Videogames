{
 "cells": [
  {
   "cell_type": "markdown",
   "id": "95911598",
   "metadata": {},
   "source": [
    "# Vendas de Jogos de Videogames"
   ]
  },
  {
   "cell_type": "code",
   "execution_count": 50,
   "id": "f967e527",
   "metadata": {},
   "outputs": [
    {
     "name": "stderr",
     "output_type": "stream",
     "text": [
      "UsageError: unrecognized arguments: #faz com que os gráficos gerados sejam mostrados dentro do notebook\n"
     ]
    }
   ],
   "source": [
    "import numpy as np\n",
    "import pandas as pd\n",
    "import scipy.stats as st\n",
    "pd.set_option('display.max_columns', None)\n",
    "\n",
    "import math\n",
    "\n",
    "import matplotlib.pyplot as plt\n",
    "%matplotlib inline    #faz com que os gráficos gerados sejam mostrados dentro do notebook\n",
    "plt.style.use('ggplot')   #estilo que os gráficos terão. Adiciona cores e padrões diferentes para personalizar\n",
    "\n",
    "import seaborn as sns\n",
    "sns.set_style('whitegrid')\n",
    "\n",
    "import missingno as msno\n",
    "\n",
    "from sklearn.preprocessing import StandardScale\n",
    "from scipy import stats\n",
    "\n",
    "# import os \n",
    "# for dirname, _, filenames in os.walk('/kaggle/input'):\n",
    "#     for filename in filenames:\n",
    "#         print(os.path.join(dirname, filename))\n"
   ]
  },
  {
   "cell_type": "code",
   "execution_count": null,
   "id": "737f5a6f",
   "metadata": {
    "scrolled": false
   },
   "outputs": [],
   "source": [
    "# Leitura do arquivo\n",
    "videogames = pd.read_csv('dados/vgsales.csv')\n",
    "videogames"
   ]
  },
  {
   "cell_type": "code",
   "execution_count": null,
   "id": "aa542e73",
   "metadata": {},
   "outputs": [],
   "source": [
    "# Renomeando as colunas\n",
    "videogames.columns = ['Ranking', 'Nome', 'Plataforma', 'Ano', 'Gênero', 'Editora', 'Vendas América do Norte',\n",
    "                      'Vendas EUA', 'Vendas Japão', 'Outras Vendas', 'Vendas Global']\n",
    "videogames.head(10)"
   ]
  },
  {
   "cell_type": "code",
   "execution_count": null,
   "id": "858c1342",
   "metadata": {},
   "outputs": [],
   "source": [
    "#apaguei alguns dados pois, a partir de 2016 os dados estão incompletos\n",
    "drop_row_index = videogames[videogames['Ano'] > 2015].index\n",
    "videogames = videogames.drop(drop_row_index)\n",
    "videogames"
   ]
  },
  {
   "cell_type": "code",
   "execution_count": null,
   "id": "32b084e5",
   "metadata": {},
   "outputs": [],
   "source": [
    "# Quantidade de linhas e colunas no Dataframe\n",
    "videogames.shape"
   ]
  },
  {
   "cell_type": "markdown",
   "id": "67572b1b",
   "metadata": {},
   "source": [
    "### Resumo de algumas informações"
   ]
  },
  {
   "cell_type": "code",
   "execution_count": 51,
   "id": "001cd727",
   "metadata": {},
   "outputs": [
    {
     "name": "stdout",
     "output_type": "stream",
     "text": [
      "<class 'pandas.core.frame.DataFrame'>\n",
      "Int64Index: 16250 entries, 0 to 16597\n",
      "Data columns (total 11 columns):\n",
      " #   Column                   Non-Null Count  Dtype  \n",
      "---  ------                   --------------  -----  \n",
      " 0   Ranking                  16250 non-null  int64  \n",
      " 1   Nome                     16250 non-null  object \n",
      " 2   Plataforma               16250 non-null  object \n",
      " 3   Ano                      15979 non-null  float64\n",
      " 4   Gênero                   16250 non-null  object \n",
      " 5   Editora                  16194 non-null  object \n",
      " 6   Vendas América do Norte  16250 non-null  float64\n",
      " 7   Vendas EUA               16250 non-null  float64\n",
      " 8   Vendas Japão             16250 non-null  float64\n",
      " 9   Outras Vendas            16250 non-null  float64\n",
      " 10  Vendas Global            16250 non-null  float64\n",
      "dtypes: float64(6), int64(1), object(4)\n",
      "memory usage: 2.0+ MB\n"
     ]
    }
   ],
   "source": [
    "videogames.info()"
   ]
  },
  {
   "cell_type": "code",
   "execution_count": 52,
   "id": "01bbcd44",
   "metadata": {},
   "outputs": [
    {
     "data": {
      "text/html": [
       "<div>\n",
       "<style scoped>\n",
       "    .dataframe tbody tr th:only-of-type {\n",
       "        vertical-align: middle;\n",
       "    }\n",
       "\n",
       "    .dataframe tbody tr th {\n",
       "        vertical-align: top;\n",
       "    }\n",
       "\n",
       "    .dataframe thead th {\n",
       "        text-align: right;\n",
       "    }\n",
       "</style>\n",
       "<table border=\"1\" class=\"dataframe\">\n",
       "  <thead>\n",
       "    <tr style=\"text-align: right;\">\n",
       "      <th></th>\n",
       "      <th>Ranking</th>\n",
       "      <th>Ano</th>\n",
       "      <th>Vendas América do Norte</th>\n",
       "      <th>Vendas EUA</th>\n",
       "      <th>Vendas Japão</th>\n",
       "      <th>Outras Vendas</th>\n",
       "      <th>Vendas Global</th>\n",
       "    </tr>\n",
       "  </thead>\n",
       "  <tbody>\n",
       "    <tr>\n",
       "      <th>count</th>\n",
       "      <td>16250.000000</td>\n",
       "      <td>15979.000000</td>\n",
       "      <td>16250.000000</td>\n",
       "      <td>16250.000000</td>\n",
       "      <td>16250.000000</td>\n",
       "      <td>16250.000000</td>\n",
       "      <td>16250.000000</td>\n",
       "    </tr>\n",
       "    <tr>\n",
       "      <th>mean</th>\n",
       "      <td>8233.153785</td>\n",
       "      <td>2006.197071</td>\n",
       "      <td>0.268924</td>\n",
       "      <td>0.148146</td>\n",
       "      <td>0.078601</td>\n",
       "      <td>0.048614</td>\n",
       "      <td>0.544564</td>\n",
       "    </tr>\n",
       "    <tr>\n",
       "      <th>std</th>\n",
       "      <td>4775.382512</td>\n",
       "      <td>5.714810</td>\n",
       "      <td>0.824467</td>\n",
       "      <td>0.509035</td>\n",
       "      <td>0.312196</td>\n",
       "      <td>0.190271</td>\n",
       "      <td>1.569213</td>\n",
       "    </tr>\n",
       "    <tr>\n",
       "      <th>min</th>\n",
       "      <td>1.000000</td>\n",
       "      <td>1980.000000</td>\n",
       "      <td>0.000000</td>\n",
       "      <td>0.000000</td>\n",
       "      <td>0.000000</td>\n",
       "      <td>0.000000</td>\n",
       "      <td>0.010000</td>\n",
       "    </tr>\n",
       "    <tr>\n",
       "      <th>25%</th>\n",
       "      <td>4095.250000</td>\n",
       "      <td>2003.000000</td>\n",
       "      <td>0.000000</td>\n",
       "      <td>0.000000</td>\n",
       "      <td>0.000000</td>\n",
       "      <td>0.000000</td>\n",
       "      <td>0.060000</td>\n",
       "    </tr>\n",
       "    <tr>\n",
       "      <th>50%</th>\n",
       "      <td>8213.500000</td>\n",
       "      <td>2007.000000</td>\n",
       "      <td>0.080000</td>\n",
       "      <td>0.020000</td>\n",
       "      <td>0.000000</td>\n",
       "      <td>0.010000</td>\n",
       "      <td>0.170000</td>\n",
       "    </tr>\n",
       "    <tr>\n",
       "      <th>75%</th>\n",
       "      <td>12340.750000</td>\n",
       "      <td>2010.000000</td>\n",
       "      <td>0.240000</td>\n",
       "      <td>0.110000</td>\n",
       "      <td>0.040000</td>\n",
       "      <td>0.040000</td>\n",
       "      <td>0.480000</td>\n",
       "    </tr>\n",
       "    <tr>\n",
       "      <th>max</th>\n",
       "      <td>16600.000000</td>\n",
       "      <td>2015.000000</td>\n",
       "      <td>41.490000</td>\n",
       "      <td>29.020000</td>\n",
       "      <td>10.220000</td>\n",
       "      <td>10.570000</td>\n",
       "      <td>82.740000</td>\n",
       "    </tr>\n",
       "  </tbody>\n",
       "</table>\n",
       "</div>"
      ],
      "text/plain": [
       "            Ranking           Ano  Vendas América do Norte    Vendas EUA  \\\n",
       "count  16250.000000  15979.000000             16250.000000  16250.000000   \n",
       "mean    8233.153785   2006.197071                 0.268924      0.148146   \n",
       "std     4775.382512      5.714810                 0.824467      0.509035   \n",
       "min        1.000000   1980.000000                 0.000000      0.000000   \n",
       "25%     4095.250000   2003.000000                 0.000000      0.000000   \n",
       "50%     8213.500000   2007.000000                 0.080000      0.020000   \n",
       "75%    12340.750000   2010.000000                 0.240000      0.110000   \n",
       "max    16600.000000   2015.000000                41.490000     29.020000   \n",
       "\n",
       "       Vendas Japão  Outras Vendas  Vendas Global  \n",
       "count  16250.000000   16250.000000   16250.000000  \n",
       "mean       0.078601       0.048614       0.544564  \n",
       "std        0.312196       0.190271       1.569213  \n",
       "min        0.000000       0.000000       0.010000  \n",
       "25%        0.000000       0.000000       0.060000  \n",
       "50%        0.000000       0.010000       0.170000  \n",
       "75%        0.040000       0.040000       0.480000  \n",
       "max       10.220000      10.570000      82.740000  "
      ]
     },
     "execution_count": 52,
     "metadata": {},
     "output_type": "execute_result"
    }
   ],
   "source": [
    "videogames.describe()"
   ]
  },
  {
   "cell_type": "code",
   "execution_count": 53,
   "id": "e8fbe064",
   "metadata": {},
   "outputs": [
    {
     "data": {
      "text/html": [
       "<div>\n",
       "<style scoped>\n",
       "    .dataframe tbody tr th:only-of-type {\n",
       "        vertical-align: middle;\n",
       "    }\n",
       "\n",
       "    .dataframe tbody tr th {\n",
       "        vertical-align: top;\n",
       "    }\n",
       "\n",
       "    .dataframe thead th {\n",
       "        text-align: right;\n",
       "    }\n",
       "</style>\n",
       "<table border=\"1\" class=\"dataframe\">\n",
       "  <thead>\n",
       "    <tr style=\"text-align: right;\">\n",
       "      <th></th>\n",
       "      <th>Nome</th>\n",
       "      <th>Plataforma</th>\n",
       "      <th>Gênero</th>\n",
       "      <th>Editora</th>\n",
       "    </tr>\n",
       "  </thead>\n",
       "  <tbody>\n",
       "    <tr>\n",
       "      <th>count</th>\n",
       "      <td>16250</td>\n",
       "      <td>16250</td>\n",
       "      <td>16250</td>\n",
       "      <td>16194</td>\n",
       "    </tr>\n",
       "    <tr>\n",
       "      <th>unique</th>\n",
       "      <td>11296</td>\n",
       "      <td>31</td>\n",
       "      <td>12</td>\n",
       "      <td>566</td>\n",
       "    </tr>\n",
       "    <tr>\n",
       "      <th>top</th>\n",
       "      <td>Need for Speed: Most Wanted</td>\n",
       "      <td>DS</td>\n",
       "      <td>Action</td>\n",
       "      <td>Electronic Arts</td>\n",
       "    </tr>\n",
       "    <tr>\n",
       "      <th>freq</th>\n",
       "      <td>12</td>\n",
       "      <td>2162</td>\n",
       "      <td>3196</td>\n",
       "      <td>1331</td>\n",
       "    </tr>\n",
       "  </tbody>\n",
       "</table>\n",
       "</div>"
      ],
      "text/plain": [
       "                               Nome Plataforma  Gênero          Editora\n",
       "count                         16250      16250   16250            16194\n",
       "unique                        11296         31      12              566\n",
       "top     Need for Speed: Most Wanted         DS  Action  Electronic Arts\n",
       "freq                             12       2162    3196             1331"
      ]
     },
     "execution_count": 53,
     "metadata": {},
     "output_type": "execute_result"
    }
   ],
   "source": [
    "videogames.describe(include = ['object', 'bool'])"
   ]
  },
  {
   "cell_type": "code",
   "execution_count": 54,
   "id": "30f2161c",
   "metadata": {},
   "outputs": [
    {
     "data": {
      "text/plain": [
       "Ranking                      int64\n",
       "Nome                        object\n",
       "Plataforma                  object\n",
       "Ano                        float64\n",
       "Gênero                      object\n",
       "Editora                     object\n",
       "Vendas América do Norte    float64\n",
       "Vendas EUA                 float64\n",
       "Vendas Japão               float64\n",
       "Outras Vendas              float64\n",
       "Vendas Global              float64\n",
       "dtype: object"
      ]
     },
     "execution_count": 54,
     "metadata": {},
     "output_type": "execute_result"
    }
   ],
   "source": [
    "# Tipos de dados em cada coluna\n",
    "videogames.dtypes"
   ]
  },
  {
   "cell_type": "code",
   "execution_count": 55,
   "id": "4cbe9e47",
   "metadata": {},
   "outputs": [
    {
     "data": {
      "text/html": [
       "<div>\n",
       "<style scoped>\n",
       "    .dataframe tbody tr th:only-of-type {\n",
       "        vertical-align: middle;\n",
       "    }\n",
       "\n",
       "    .dataframe tbody tr th {\n",
       "        vertical-align: top;\n",
       "    }\n",
       "\n",
       "    .dataframe thead th {\n",
       "        text-align: right;\n",
       "    }\n",
       "</style>\n",
       "<table border=\"1\" class=\"dataframe\">\n",
       "  <thead>\n",
       "    <tr style=\"text-align: right;\">\n",
       "      <th></th>\n",
       "      <th>Ranking</th>\n",
       "      <th>Nome</th>\n",
       "      <th>Plataforma</th>\n",
       "      <th>Ano</th>\n",
       "      <th>Gênero</th>\n",
       "      <th>Editora</th>\n",
       "      <th>Vendas América do Norte</th>\n",
       "      <th>Vendas EUA</th>\n",
       "      <th>Vendas Japão</th>\n",
       "      <th>Outras Vendas</th>\n",
       "      <th>Vendas Global</th>\n",
       "    </tr>\n",
       "  </thead>\n",
       "  <tbody>\n",
       "    <tr>\n",
       "      <th>179</th>\n",
       "      <td>180</td>\n",
       "      <td>Madden NFL 2004</td>\n",
       "      <td>PS2</td>\n",
       "      <td>NaN</td>\n",
       "      <td>Sports</td>\n",
       "      <td>Electronic Arts</td>\n",
       "      <td>4.26</td>\n",
       "      <td>0.26</td>\n",
       "      <td>0.01</td>\n",
       "      <td>0.71</td>\n",
       "      <td>5.23</td>\n",
       "    </tr>\n",
       "    <tr>\n",
       "      <th>377</th>\n",
       "      <td>378</td>\n",
       "      <td>FIFA Soccer 2004</td>\n",
       "      <td>PS2</td>\n",
       "      <td>NaN</td>\n",
       "      <td>Sports</td>\n",
       "      <td>Electronic Arts</td>\n",
       "      <td>0.59</td>\n",
       "      <td>2.36</td>\n",
       "      <td>0.04</td>\n",
       "      <td>0.51</td>\n",
       "      <td>3.49</td>\n",
       "    </tr>\n",
       "    <tr>\n",
       "      <th>431</th>\n",
       "      <td>432</td>\n",
       "      <td>LEGO Batman: The Videogame</td>\n",
       "      <td>Wii</td>\n",
       "      <td>NaN</td>\n",
       "      <td>Action</td>\n",
       "      <td>Warner Bros. Interactive Entertainment</td>\n",
       "      <td>1.86</td>\n",
       "      <td>1.02</td>\n",
       "      <td>0.00</td>\n",
       "      <td>0.29</td>\n",
       "      <td>3.17</td>\n",
       "    </tr>\n",
       "    <tr>\n",
       "      <th>470</th>\n",
       "      <td>471</td>\n",
       "      <td>wwe Smackdown vs. Raw 2006</td>\n",
       "      <td>PS2</td>\n",
       "      <td>NaN</td>\n",
       "      <td>Fighting</td>\n",
       "      <td>NaN</td>\n",
       "      <td>1.57</td>\n",
       "      <td>1.02</td>\n",
       "      <td>0.00</td>\n",
       "      <td>0.41</td>\n",
       "      <td>3.00</td>\n",
       "    </tr>\n",
       "    <tr>\n",
       "      <th>607</th>\n",
       "      <td>608</td>\n",
       "      <td>Space Invaders</td>\n",
       "      <td>2600</td>\n",
       "      <td>NaN</td>\n",
       "      <td>Shooter</td>\n",
       "      <td>Atari</td>\n",
       "      <td>2.36</td>\n",
       "      <td>0.14</td>\n",
       "      <td>0.00</td>\n",
       "      <td>0.03</td>\n",
       "      <td>2.53</td>\n",
       "    </tr>\n",
       "    <tr>\n",
       "      <th>...</th>\n",
       "      <td>...</td>\n",
       "      <td>...</td>\n",
       "      <td>...</td>\n",
       "      <td>...</td>\n",
       "      <td>...</td>\n",
       "      <td>...</td>\n",
       "      <td>...</td>\n",
       "      <td>...</td>\n",
       "      <td>...</td>\n",
       "      <td>...</td>\n",
       "      <td>...</td>\n",
       "    </tr>\n",
       "    <tr>\n",
       "      <th>16307</th>\n",
       "      <td>16310</td>\n",
       "      <td>Freaky Flyers</td>\n",
       "      <td>GC</td>\n",
       "      <td>NaN</td>\n",
       "      <td>Racing</td>\n",
       "      <td>Unknown</td>\n",
       "      <td>0.01</td>\n",
       "      <td>0.00</td>\n",
       "      <td>0.00</td>\n",
       "      <td>0.00</td>\n",
       "      <td>0.01</td>\n",
       "    </tr>\n",
       "    <tr>\n",
       "      <th>16327</th>\n",
       "      <td>16330</td>\n",
       "      <td>Inversion</td>\n",
       "      <td>PC</td>\n",
       "      <td>NaN</td>\n",
       "      <td>Shooter</td>\n",
       "      <td>Namco Bandai Games</td>\n",
       "      <td>0.01</td>\n",
       "      <td>0.00</td>\n",
       "      <td>0.00</td>\n",
       "      <td>0.00</td>\n",
       "      <td>0.01</td>\n",
       "    </tr>\n",
       "    <tr>\n",
       "      <th>16366</th>\n",
       "      <td>16369</td>\n",
       "      <td>Hakuouki: Shinsengumi Kitan</td>\n",
       "      <td>PS3</td>\n",
       "      <td>NaN</td>\n",
       "      <td>Adventure</td>\n",
       "      <td>Unknown</td>\n",
       "      <td>0.01</td>\n",
       "      <td>0.00</td>\n",
       "      <td>0.00</td>\n",
       "      <td>0.00</td>\n",
       "      <td>0.01</td>\n",
       "    </tr>\n",
       "    <tr>\n",
       "      <th>16427</th>\n",
       "      <td>16430</td>\n",
       "      <td>Virtua Quest</td>\n",
       "      <td>GC</td>\n",
       "      <td>NaN</td>\n",
       "      <td>Role-Playing</td>\n",
       "      <td>Unknown</td>\n",
       "      <td>0.01</td>\n",
       "      <td>0.00</td>\n",
       "      <td>0.00</td>\n",
       "      <td>0.00</td>\n",
       "      <td>0.01</td>\n",
       "    </tr>\n",
       "    <tr>\n",
       "      <th>16493</th>\n",
       "      <td>16496</td>\n",
       "      <td>The Smurfs</td>\n",
       "      <td>3DS</td>\n",
       "      <td>NaN</td>\n",
       "      <td>Action</td>\n",
       "      <td>Unknown</td>\n",
       "      <td>0.00</td>\n",
       "      <td>0.01</td>\n",
       "      <td>0.00</td>\n",
       "      <td>0.00</td>\n",
       "      <td>0.01</td>\n",
       "    </tr>\n",
       "  </tbody>\n",
       "</table>\n",
       "<p>271 rows × 11 columns</p>\n",
       "</div>"
      ],
      "text/plain": [
       "       Ranking                         Nome Plataforma  Ano        Gênero  \\\n",
       "179        180              Madden NFL 2004        PS2  NaN        Sports   \n",
       "377        378             FIFA Soccer 2004        PS2  NaN        Sports   \n",
       "431        432   LEGO Batman: The Videogame        Wii  NaN        Action   \n",
       "470        471   wwe Smackdown vs. Raw 2006        PS2  NaN      Fighting   \n",
       "607        608               Space Invaders       2600  NaN       Shooter   \n",
       "...        ...                          ...        ...  ...           ...   \n",
       "16307    16310                Freaky Flyers         GC  NaN        Racing   \n",
       "16327    16330                    Inversion         PC  NaN       Shooter   \n",
       "16366    16369  Hakuouki: Shinsengumi Kitan        PS3  NaN     Adventure   \n",
       "16427    16430                 Virtua Quest         GC  NaN  Role-Playing   \n",
       "16493    16496                   The Smurfs        3DS  NaN        Action   \n",
       "\n",
       "                                      Editora  Vendas América do Norte  \\\n",
       "179                           Electronic Arts                     4.26   \n",
       "377                           Electronic Arts                     0.59   \n",
       "431    Warner Bros. Interactive Entertainment                     1.86   \n",
       "470                                       NaN                     1.57   \n",
       "607                                     Atari                     2.36   \n",
       "...                                       ...                      ...   \n",
       "16307                                 Unknown                     0.01   \n",
       "16327                      Namco Bandai Games                     0.01   \n",
       "16366                                 Unknown                     0.01   \n",
       "16427                                 Unknown                     0.01   \n",
       "16493                                 Unknown                     0.00   \n",
       "\n",
       "       Vendas EUA  Vendas Japão  Outras Vendas  Vendas Global  \n",
       "179          0.26          0.01           0.71           5.23  \n",
       "377          2.36          0.04           0.51           3.49  \n",
       "431          1.02          0.00           0.29           3.17  \n",
       "470          1.02          0.00           0.41           3.00  \n",
       "607          0.14          0.00           0.03           2.53  \n",
       "...           ...           ...            ...            ...  \n",
       "16307        0.00          0.00           0.00           0.01  \n",
       "16327        0.00          0.00           0.00           0.01  \n",
       "16366        0.00          0.00           0.00           0.01  \n",
       "16427        0.00          0.00           0.00           0.01  \n",
       "16493        0.01          0.00           0.00           0.01  \n",
       "\n",
       "[271 rows x 11 columns]"
      ]
     },
     "execution_count": 55,
     "metadata": {},
     "output_type": "execute_result"
    }
   ],
   "source": [
    "# Verificando linhas com NaN\n",
    "videogames[videogames['Ano'].isnull()]"
   ]
  },
  {
   "cell_type": "code",
   "execution_count": 56,
   "id": "c84fd11f",
   "metadata": {},
   "outputs": [
    {
     "data": {
      "text/plain": [
       "Ranking                      0\n",
       "Nome                         0\n",
       "Plataforma                   0\n",
       "Ano                        271\n",
       "Gênero                       0\n",
       "Editora                     56\n",
       "Vendas América do Norte      0\n",
       "Vendas EUA                   0\n",
       "Vendas Japão                 0\n",
       "Outras Vendas                0\n",
       "Vendas Global                0\n",
       "dtype: int64"
      ]
     },
     "execution_count": 56,
     "metadata": {},
     "output_type": "execute_result"
    }
   ],
   "source": [
    "videogames.isnull().sum()"
   ]
  },
  {
   "cell_type": "code",
   "execution_count": 57,
   "id": "aa6d8be8",
   "metadata": {},
   "outputs": [
    {
     "data": {
      "text/plain": [
       "DS      2162\n",
       "PS2     2161\n",
       "Wii     1325\n",
       "PS3     1297\n",
       "X360    1257\n",
       "PSP     1213\n",
       "PS      1196\n",
       "PC       922\n",
       "XB       824\n",
       "GBA      822\n",
       "GC       556\n",
       "3DS      474\n",
       "PSV      351\n",
       "N64      319\n",
       "SNES     239\n",
       "PS4      228\n",
       "SAT      173\n",
       "XOne     159\n",
       "WiiU     133\n",
       "2600     133\n",
       "NES       98\n",
       "GB        98\n",
       "DC        52\n",
       "GEN       27\n",
       "NG        12\n",
       "SCD        6\n",
       "WS         6\n",
       "3DO        3\n",
       "TG16       2\n",
       "GG         1\n",
       "PCFX       1\n",
       "Name: Plataforma, dtype: int64"
      ]
     },
     "execution_count": 57,
     "metadata": {},
     "output_type": "execute_result"
    }
   ],
   "source": [
    "# Verificando quantidade de jogos por plataforma\n",
    "videogames['Plataforma'].value_counts()"
   ]
  },
  {
   "cell_type": "code",
   "execution_count": 58,
   "id": "d1c748a3",
   "metadata": {},
   "outputs": [],
   "source": [
    "# videogames['Plataforma'].value_counts().plot()"
   ]
  },
  {
   "cell_type": "markdown",
   "id": "894a0eab",
   "metadata": {},
   "source": [
    "## Questionamentos"
   ]
  },
  {
   "cell_type": "markdown",
   "id": "37803310",
   "metadata": {},
   "source": [
    "### 1. Qual a quantidade de jogos por gênero"
   ]
  },
  {
   "cell_type": "code",
   "execution_count": 59,
   "id": "eaa14db8",
   "metadata": {},
   "outputs": [
    {
     "data": {
      "text/plain": [
       "Action          3196\n",
       "Sports          2308\n",
       "Misc            1721\n",
       "Role-Playing    1446\n",
       "Shooter         1278\n",
       "Adventure       1252\n",
       "Racing          1229\n",
       "Platform         876\n",
       "Simulation       857\n",
       "Fighting         834\n",
       "Strategy         671\n",
       "Puzzle           582\n",
       "Name: Gênero, dtype: int64"
      ]
     },
     "execution_count": 59,
     "metadata": {},
     "output_type": "execute_result"
    }
   ],
   "source": [
    "videogames['Gênero'].value_counts()"
   ]
  },
  {
   "cell_type": "code",
   "execution_count": 65,
   "id": "abea0c0a",
   "metadata": {},
   "outputs": [
    {
     "data": {
      "text/plain": [
       "(array([ 0,  1,  2,  3,  4,  5,  6,  7,  8,  9, 10, 11]),\n",
       " [Text(0, 0, 'Action'),\n",
       "  Text(1, 0, 'Sports'),\n",
       "  Text(2, 0, 'Misc'),\n",
       "  Text(3, 0, 'Role-Playing'),\n",
       "  Text(4, 0, 'Shooter'),\n",
       "  Text(5, 0, 'Adventure'),\n",
       "  Text(6, 0, 'Racing'),\n",
       "  Text(7, 0, 'Platform'),\n",
       "  Text(8, 0, 'Simulation'),\n",
       "  Text(9, 0, 'Fighting'),\n",
       "  Text(10, 0, 'Strategy'),\n",
       "  Text(11, 0, 'Puzzle')])"
      ]
     },
     "execution_count": 65,
     "metadata": {},
     "output_type": "execute_result"
    },
    {
     "data": {
      "image/png": "[encoded data removed]",
      "text/plain": [
       "<Figure size 1080x720 with 1 Axes>"
      ]
     },
     "metadata": {},
     "output_type": "display_data"
    }
   ],
   "source": [
    "plt.figure(figsize = (15,10))\n",
    "sns.countplot(x = 'Gênero', data = videogames, order = videogames['Gênero'].value_counts().index)\n",
    "plt.xticks(rotation = 45)"
   ]
  },
  {
   "cell_type": "code",
   "execution_count": null,
   "id": "cdc69a7e",
   "metadata": {},
   "outputs": [],
   "source": []
  },
  {
   "cell_type": "code",
   "execution_count": null,
   "id": "8c11c9d8",
   "metadata": {},
   "outputs": [],
   "source": []
  },
  {
   "cell_type": "code",
   "execution_count": null,
   "id": "3b3cc61c",
   "metadata": {},
   "outputs": [],
   "source": []
  },
  {
   "cell_type": "markdown",
   "id": "7cb21eba",
   "metadata": {},
   "source": [
    "## Criando gráficos"
   ]
  },
  {
   "cell_type": "code",
   "execution_count": null,
   "id": "dfb59f3c",
   "metadata": {},
   "outputs": [],
   "source": [
    "# Os 10 videogames com mais títulos lançados\n",
    "videogames['Plataforma'].value_counts().head(10).plot(kind = 'bar', figsize = (11,5), grid = False, color = 'green')\n",
    "\n",
    "plt.title('Os 10 videogames com mais títulos lançados')  # Adicionando um título ao gráfico\n",
    "plt.xlabel('Videogames')  # Renomeando eixo x\n",
    "plt.ylabel('Quantidade de jogos lançados')  # Renomeando eixo y\n",
    "plt.show()"
   ]
  },
  {
   "cell_type": "code",
   "execution_count": null,
   "id": "fc8df57e",
   "metadata": {},
   "outputs": [],
   "source": [
    "# Top 10 - os 10 jogos mais vendidos\n",
    "tp_10_vendidos = videogames[['Nome', 'Vendas Global']].head(10).set_index('Nome').sort_values('Vendas Global', ascending = True)\n",
    "tp_10_vendidos.plot(kind = 'barh', figsize = (11,7), grid = True, color = 'darkred', legend = False )\n",
    "\n",
    "plt.title('Os 10 jogos mais vendidos')\n",
    "plt.xlabel('Total de vendas (em milhões de dólares)')\n",
    "plt.show()"
   ]
  },
  {
   "cell_type": "markdown",
   "id": "97e5f02c",
   "metadata": {},
   "source": [
    "# Informações cruzadas"
   ]
  },
  {
   "cell_type": "code",
   "execution_count": null,
   "id": "319fa5e1",
   "metadata": {},
   "outputs": [],
   "source": [
    "crosstab_vg = pd.crosstab(videogames['Plataforma'], videogames['Gênero'])\n",
    "crosstab_vg.head()"
   ]
  },
  {
   "cell_type": "code",
   "execution_count": null,
   "id": "1519a037",
   "metadata": {},
   "outputs": [],
   "source": [
    "# Acrescentando o total \n",
    "crosstab_vg['Total'] = crosstab_vg.sum(axis = 1)\n",
    "crosstab_vg.head()"
   ]
  },
  {
   "cell_type": "markdown",
   "id": "ea051650",
   "metadata": {},
   "source": [
    "## Heatmap - gráfico de calor"
   ]
  },
  {
   "cell_type": "code",
   "execution_count": null,
   "id": "fe4808a5",
   "metadata": {},
   "outputs": [],
   "source": [
    "#crio um DataFrame pra armazenar os 10 consoles que tiveram mais ançamentos, coloco uma condição > 1000 e utilizo os \n",
    "#sort_values para ordenar pela coluna total em ordem decrescente\n",
    "top10_plataforma = crosstab_vg[crosstab_vg['Total'] > 1000].sort_values('Total', ascending = False) \n",
    "\n",
    "# aqui crio um novo DataFrame similar ao anterior, mas que adiciona uma nova linha com o total no final do DataFrame\n",
    "top10_final = top10_plataforma.append(pd.DataFrame(top10_plataforma.sum(), columns = ['Total']).T, ignore_index = False)\n",
    "\n",
    "sns.set(font_scale = 1) #tamanho da fonte no gráfico\n",
    "plt.figure(figsize = (18,9)) #tamanho do gráfico\n",
    "\n",
    "#utilizo a função heatmap (que cria o mapa de calor). O primeiro argumento é o que quero exibir, no caso top10_final, \n",
    "#depois annot faz com que os números dos quadrados apareçam. Após vmax e vmim definem os valores máximos e mínimos, para isso \n",
    "#utilizei a função .loc e filtro as linhas e colunas do DataFrama. Por fim, fmt para formatar as informações pra ficarem bem apresentadas\n",
    "sns.heatmap(top10_final, annot = True, vmax = top10_final.loc[: 'PS', : 'Strategy'].values.max(), \n",
    "            vmin = top10_final.loc[: , : 'Strategy'].values.min(), fmt = 'd' )\n",
    "plt.xlabel('GÊNERO')\n",
    "plt.ylabel('CONSOLE')\n",
    "plt.title('QUANTIDADE DE TÍTULOS POR GÊNERO E CONSOLE')\n",
    "plt.show()"
   ]
  },
  {
   "cell_type": "code",
   "execution_count": null,
   "id": "537bb928",
   "metadata": {},
   "outputs": [],
   "source": []
  }
 ],
 "metadata": {
  "kernelspec": {
   "display_name": "Python 3 (ipykernel)",
   "language": "python",
   "name": "python3"
  },
  "language_info": {
   "codemirror_mode": {
    "name": "ipython",
    "version": 3
   },
   "file_extension": ".py",
   "mimetype": "text/x-python",
   "name": "python",
   "nbconvert_exporter": "python",
   "pygments_lexer": "ipython3",
   "version": "3.9.7"
  }
 },
 "nbformat": 4,
 "nbformat_minor": 5
}
